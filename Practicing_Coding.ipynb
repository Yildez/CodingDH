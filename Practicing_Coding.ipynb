{
 "cells": [
  {
   "cell_type": "markdown",
   "metadata": {},
   "source": [
    "# What I have learned thus far\n",
    "\n",
    "## An ode to digital humanities\n",
    "\n",
    "Comutpers do not like me\n",
    "\n",
    "Well, *I don't like them either* \n",
    "\n",
    "**But I need them.** \n",
    "\n",
    "\n",
    "\n",
    "\n",
    "\n"
   ]
  }
 ],
 "metadata": {
  "kernelspec": {
   "display_name": "Python 3",
   "language": "python",
   "name": "python3"
  },
  "language_info": {
   "name": "python",
   "version": "3.11.5"
  }
 },
 "nbformat": 4,
 "nbformat_minor": 2
}
